{
 "cells": [
  {
   "cell_type": "code",
   "execution_count": 8,
   "id": "d431267f",
   "metadata": {},
   "outputs": [],
   "source": [
    "import pandas as pd\n",
    "import numpy as np\n",
    "# import matplotlib.pyplot as plt"
   ]
  },
  {
   "cell_type": "code",
   "execution_count": 37,
   "id": "553d4d59",
   "metadata": {},
   "outputs": [
    {
     "data": {
      "text/html": [
       "<div>\n",
       "<style scoped>\n",
       "    .dataframe tbody tr th:only-of-type {\n",
       "        vertical-align: middle;\n",
       "    }\n",
       "\n",
       "    .dataframe tbody tr th {\n",
       "        vertical-align: top;\n",
       "    }\n",
       "\n",
       "    .dataframe thead th {\n",
       "        text-align: right;\n",
       "    }\n",
       "</style>\n",
       "<table border=\"1\" class=\"dataframe\">\n",
       "  <thead>\n",
       "    <tr style=\"text-align: right;\">\n",
       "      <th></th>\n",
       "      <th>books</th>\n",
       "      <th>authors</th>\n",
       "      <th>user_1</th>\n",
       "      <th>user_2</th>\n",
       "      <th>user_3</th>\n",
       "      <th>user_4</th>\n",
       "    </tr>\n",
       "  </thead>\n",
       "  <tbody>\n",
       "    <tr>\n",
       "      <th>0</th>\n",
       "      <td>Great Expectations</td>\n",
       "      <td>Charles Dickens</td>\n",
       "      <td>3.2</td>\n",
       "      <td>5.0</td>\n",
       "      <td>2.0</td>\n",
       "      <td>4.0</td>\n",
       "    </tr>\n",
       "    <tr>\n",
       "      <th>1</th>\n",
       "      <td>Of Mice and Men</td>\n",
       "      <td>John Steinbeck</td>\n",
       "      <td>2.9</td>\n",
       "      <td>1.3</td>\n",
       "      <td>2.3</td>\n",
       "      <td>3.5</td>\n",
       "    </tr>\n",
       "    <tr>\n",
       "      <th>2</th>\n",
       "      <td>Romeo and Juliet</td>\n",
       "      <td>William Shakespeare</td>\n",
       "      <td>2.9</td>\n",
       "      <td>4.0</td>\n",
       "      <td>2.8</td>\n",
       "      <td>4.0</td>\n",
       "    </tr>\n",
       "    <tr>\n",
       "      <th>3</th>\n",
       "      <td>The Time Machine</td>\n",
       "      <td>H. G. Wells</td>\n",
       "      <td>2.9</td>\n",
       "      <td>3.8</td>\n",
       "      <td>2.8</td>\n",
       "      <td>5.0</td>\n",
       "    </tr>\n",
       "    <tr>\n",
       "      <th>4</th>\n",
       "      <td>Alice in Wonderland</td>\n",
       "      <td>Lewis Carroll</td>\n",
       "      <td>2.5</td>\n",
       "      <td>3.5</td>\n",
       "      <td>4.0</td>\n",
       "      <td>4.2</td>\n",
       "    </tr>\n",
       "  </tbody>\n",
       "</table>\n",
       "</div>"
      ],
      "text/plain": [
       "                 books              authors  user_1  user_2  user_3  user_4\n",
       "0   Great Expectations      Charles Dickens     3.2     5.0     2.0     4.0\n",
       "1      Of Mice and Men       John Steinbeck     2.9     1.3     2.3     3.5\n",
       "2     Romeo and Juliet  William Shakespeare     2.9     4.0     2.8     4.0\n",
       "3     The Time Machine          H. G. Wells     2.9     3.8     2.8     5.0\n",
       "4  Alice in Wonderland        Lewis Carroll     2.5     3.5     4.0     4.2"
      ]
     },
     "execution_count": 37,
     "metadata": {},
     "output_type": "execute_result"
    }
   ],
   "source": [
    "pd.set_option(\"display.precision\", 1)\n",
    "\n",
    "dat = {\n",
    "    \"books\": ['Great Expectations', 'Of Mice and Men', 'Romeo and Juliet', 'The Time Machine', 'Alice in Wonderland'],\n",
    "    \"authors\": ['Charles Dickens', 'John Steinbeck', 'William Shakespeare', ' H. G. Wells', 'Lewis Carroll' ],\n",
    "    \"user_1\": [3.2, np.nan, np.nan, np.nan, 2.5],\n",
    "    \"user_2\": [5., 1.3, 4.0, 3.8,np.nan],\n",
    "    \"user_3\": [2.0, 2.3, np.nan, np.nan, 4],\n",
    "    \"user_4\": [4, 3.5, 4, 5, 4.2],\n",
    "    }\n",
    "\n",
    "book_ratings = pd.DataFrame(dat, columns=dat.keys())\n",
    "# book_ratings['user_1'].fillna(3.2, inplace=True)\n",
    "# book_ratings['user_2'].fillna(3.2, inplace=True)\n",
    "# book_ratings['user_3'].fillna(3.2, inplace=True)\n",
    "# column_averages = book_ratings.mean()\n",
    "\n",
    "#another way of finding and replacing\n",
    "# book_ratings[\"user_1\"] = book_ratings[\"user_1\"].fillna(2.9)\n",
    "# book_ratings[\"user_2\"] = book_ratings[\"user_2\"].fillna(3.5)\n",
    "# book_ratings[\"user_3\"] = book_ratings[\"user_3\"].fillna(2.8)\n",
    "\n",
    "#second methode of sorting and replacing\n",
    "book_ratings.fillna(book_ratings.mean(numeric_only=True), inplace=True)\n",
    "book_ratings\n",
    "\n"
   ]
  },
  {
   "cell_type": "markdown",
   "id": "1990f2a9",
   "metadata": {},
   "source": [
    "Joel_4275320\n",
    "Evangel_4278420\n",
    "Edison_423220"
   ]
  },
  {
   "cell_type": "code",
   "execution_count": null,
   "id": "10149718",
   "metadata": {},
   "outputs": [],
   "source": []
  },
  {
   "cell_type": "code",
   "execution_count": null,
   "id": "73f009f3",
   "metadata": {},
   "outputs": [],
   "source": []
  }
 ],
 "metadata": {
  "kernelspec": {
   "display_name": "Python 3 (ipykernel)",
   "language": "python",
   "name": "python3"
  },
  "language_info": {
   "codemirror_mode": {
    "name": "ipython",
    "version": 3
   },
   "file_extension": ".py",
   "mimetype": "text/x-python",
   "name": "python",
   "nbconvert_exporter": "python",
   "pygments_lexer": "ipython3",
   "version": "3.11.5"
  }
 },
 "nbformat": 4,
 "nbformat_minor": 5
}
